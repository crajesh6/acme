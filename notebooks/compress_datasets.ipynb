{
 "cells": [
  {
   "cell_type": "code",
   "execution_count": 1,
   "id": "ab2b446d",
   "metadata": {},
   "outputs": [],
   "source": [
    "import sh"
   ]
  },
  {
   "cell_type": "code",
   "execution_count": 3,
   "id": "1ef4f861",
   "metadata": {},
   "outputs": [
    {
     "data": {
      "text/plain": [
       "/shared/data00/acme/data"
      ]
     },
     "execution_count": 3,
     "metadata": {},
     "output_type": "execute_result"
    }
   ],
   "source": [
    "sh.cd(\"/shared/data00/acme/data/\")\n",
    "sh.pwd()"
   ]
  },
  {
   "cell_type": "code",
   "execution_count": 4,
   "id": "d0020fc1",
   "metadata": {},
   "outputs": [
    {
     "data": {
      "text/plain": [
       "  adding: synthetic/ (stored 0%)\n",
       "  adding: synthetic/synthetic_data.h5 (deflated 8%)\n",
       "  adding: synthetic/synthetic_code_dataset.h5 (deflated 6%)\n",
       "  adding: synthetic/kmer_prior/ (stored 0%)\n",
       "  adding: synthetic/kmer_prior/kmer_prior.h5 (deflated 95%)\n",
       "  adding: synthetic/kmer_prior/kmer_prior.h5.lock (stored 0%)\n",
       "  adding: atac/ (stored 0%)\n",
       "  adding: atac/.ipynb_checkpoints/ (stored 0%)\n",
       "  adding: atac/saliency_subset/ (stored 0%)\n",
       "  adding: atac/saliency_subset/GM12878/ (stored 0%)\n",
       "  adding: atac/saliency_subset/GM12878/binary/ (stored 0%)\n",
       "  adding: atac/saliency_subset/GM12878/binary/relu/ (stored 0%)\n",
       "  adding: atac/saliency_subset/GM12878/binary/relu/binary_basset_relu.pickle (deflated 6%)\n",
       "  adding: atac/saliency_subset/GM12878/binary/relu/binary_residual_relu.pickle (deflated 6%)\n",
       "  adding: atac/saliency_subset/GM12878/binary/relu/binary_basenji_relu.pickle.lock (stored 0%)\n",
       "  adding: atac/saliency_subset/GM12878/binary/relu/binary_cnn_relu.pickle (deflated 6%)\n",
       "  adding: atac/saliency_subset/GM12878/binary/relu/binary_residual_relu.pickle.lock (stored 0%)\n",
       "  adding: atac/saliency_subset/GM12878/binary/relu/binary_cnn_relu.pickle.lock (stored 0%)\n",
       "  adding: atac/saliency_subset/GM12878/binary/relu/binary_basset_relu.pickle.lock (stored 0%)\n",
       "  adding: atac/saliency_subset/GM12878/binary/relu/binary_basenji_relu.pickle (deflated 6%)\n",
       "  adding: atac/saliency_subset/GM12878/binary/exp/ (stored 0%)\n",
       "  adding: atac/saliency_subset/GM12878/binary/exp/binary_cnn_exp.pickle (deflated 6%)\n",
       "  adding: atac/saliency_subset/GM12878/binary/exp/binary_basenji_exp.pickle (deflated 6%)\n",
       "  adding: atac/saliency_subset/GM12878/binary/exp/binary_cnn_exp.pickle.lock (stored 0%)\n",
       "  adding: atac/saliency_subset/GM12878/binary/exp/binary_basenji_exp.pickle.lock (stored 0%)\n",
       "  adding: atac/saliency_subset/GM12878/binary/exp/binary_residual_exp.pickle.lock (stored 0%)\n",
       "  adding: atac/saliency_subset/GM12878/binary/exp/binary_basset_exp.pickle (deflated 6%)\n",
       "  adding: atac/saliency_subset/GM12878/binary/exp/binary_residual_exp.pickle (deflated 6%)\n",
       "  adding: atac/saliency_subset/GM12878/binary/exp/binary_basset_exp.pickle.lock (stored 0%)\n",
       "  adding: atac/saliency_subset/GM12878/quantitative/ (stored 0%)\n",
       "  adding: atac/saliency_subset/GM12878/quantitative/relu/ (stored 0%)\n",
       "  adding: atac/saliency_subset/GM12878/quantitative/relu/cnn_32_all_relu.pickle (deflated 6%)\n",
       "  adding: atac/saliency_subset/GM12878/quantitative/relu/cnn_32_task_relu.pickle (deflated 6%)\n",
       "  adding: atac/saliency_subset/GM12878/quantitative/relu/cnn_base_all_relu.pickle.lock (stored 0%)\n",
       "  adding: atac/saliency_subset/GM12878/quantitative/relu/residual_base_task_relu.pickle.lock (stored 0%)\n",
       "  adding: atac/saliency_subset/GM12878/quantitative/relu/cnn_base_all_relu.pickle (deflated 6%)\n",
       "  adding: atac/saliency_subset/GM12878/quantitative/relu/bpnet.pickle (deflated 6%)\n",
       "  adding: atac/saliency_subset/GM12878/quantitative/relu/residual_32_all_relu.pickle.lock (stored 0%)\n",
       "  adding: atac/saliency_subset/GM12878/quantitative/relu/cnn_base_task_relu.pickle (deflated 6%)\n",
       "  adding: atac/saliency_subset/GM12878/quantitative/relu/residual_base_all_relu.pickle (deflated 6%)\n",
       "  adding: atac/saliency_subset/GM12878/quantitative/relu/residual_32_task_relu.pickle.lock (stored 0%)\n",
       "  adding: atac/saliency_subset/GM12878/quantitative/relu/residual_32_all_relu.pickle (deflated 6%)\n",
       "  adding: atac/saliency_subset/GM12878/quantitative/relu/residual_base_task_relu.pickle (deflated 6%)\n",
       "  adding: atac/saliency_subset/GM12878/quantitative/relu/basenji_v2_binloss_relu.pickle (deflated 6%)\n",
       "  adding: atac/saliency_subset/GM12878/quantitative/relu/cnn_32_task_relu.pickle.lock (stored 0%)\n",
       "  adding: atac/saliency_subset/GM12878/quantitative/relu/cnn_32_all_relu.pickle.lock (stored 0%)\n",
       "  adding: atac/saliency_subset/GM12878/quantitative/relu/residual_base_all_relu.pickle.lock (stored 0%)\n",
       "  adding: atac/saliency_subset/GM12878/quantitative/relu/residual_32_task_relu.pickle (deflated 6%)\n",
       "  adding: atac/saliency_subset/GM12878/quantitative/relu/cnn_base_task_relu.pickle.lock (stored 0%)\n",
       "  adding: atac/saliency_subset/GM12878/quantitative/relu/basenji_v2_binloss_relu.pickle.lock (stored 0%)\n",
       "  adding: atac/saliency_subset/GM12878/quantitative/relu/bpnet.pickle.lock (stored 0%)\n",
       "  adding: atac/saliency_subset/GM12878/quantitative/exp/ (stored 0%)\n",
       "  adding: atac/saliency_subset/GM12878/quantitative/exp/cnn_32_all_exp.pickle.lock (stored 0%)\n",
       "  adding: atac/saliency_subset/GM12878/quantitative/exp/cnn_base_all_exp.pickle.lock (stored 0%)\n",
       "  adding: atac/saliency_subset/GM12878/quantitative/exp/residual_base_all_exp.pickle (deflated 6%)\n",
       "  adding: atac/saliency_subset/GM12878/quantitative/exp/cnn_base_task_exp.pickle (deflated 6%)\n",
       "  adding: atac/saliency_subset/GM12878/quantitative/exp/residual_32_task_exp.pickle.lock (stored 0%)\n",
       "  adding: atac/saliency_subset/GM12878/quantitative/exp/cnn_32_task_exp.pickle (deflated 6%)\n",
       "  adding: atac/saliency_subset/GM12878/quantitative/exp/residual_32_task_exp.pickle (deflated 6%)\n",
       "  adding: atac/saliency_subset/GM12878/quantitative/exp/residual_base_all_exp.pickle.lock (stored 0%)\n",
       "  adding: atac/saliency_subset/GM12878/quantitative/exp/residual_base_task_exp.pickle.lock (stored 0%)\n",
       "  adding: atac/saliency_subset/GM12878/quantitative/exp/cnn_32_all_exp.pickle (deflated 6%)\n",
       "  adding: atac/saliency_subset/GM12878/quantitative/exp/residual_32_all_exp.pickle.lock (stored 0%)\n",
       "  adding: atac/saliency_subset/GM12878/quantitative/exp/residual_32_all_exp.pickle (deflated 6%)\n",
       "  adding: atac/saliency_subset/GM12878/quantitative/exp/cnn_base_all_exp.pickle (deflated 6%)\n",
       "  adding: atac/saliency_subset/GM12878/quantitative/exp/cnn_base_task_exp.pickle.lock (stored 0%)\n",
       "  adding: atac/saliency_subset/GM12878/quantitative/exp/residual_base_task_exp.pickle (deflated 6%)\n",
       "  adding: atac/saliency_subset/GM12878/quantitative/exp/cnn_32_task_exp.pickle.lock (stored 0%)\n",
       "  adding: atac/kmer_prior/ (stored 0%)\n",
       "  adding: atac/kmer_prior/A549/ (stored 0%)\n",
       "  adding: atac/kmer_prior/A549/kmer_prior.h5 (deflated 74%)\n",
       "  adding: atac/kmer_prior/GM12878/ (stored 0%)\n",
       "  adding: atac/kmer_prior/GM12878/kmer_prior.h5 (deflated 72%)\n",
       "  adding: atac/kmer_prior/GM12878/kmer_prior.h5.lock (stored 0%)\n",
       "  adding: atac/kmer_prior/HepG2/ (stored 0%)\n",
       "  adding: atac/kmer_prior/HepG2/kmer_prior.h5 (deflated 73%)\n",
       "  adding: atac/kmer_prior/PC-3/ (stored 0%)\n",
       "  adding: atac/kmer_prior/PC-3/kmer_prior.h5 (deflated 72%)\n",
       "  adding: atac/kmer_prior/PC-3/kmer_prior.h5.lock (stored 0%)\n",
       "  adding: atac/kmer_prior/K562/ (stored 0%)\n",
       "  adding: atac/kmer_prior/K562/kmer_prior.h5 (deflated 74%)\n",
       "  adding: atac/kmer_prior/HCT116/ (stored 0%)\n",
       "  adding: atac/kmer_prior/HCT116/kmer_prior.h5 (deflated 75%)\n",
       "  adding: atac/atac_model_pearson.csv (deflated 56%)\n",
       "  adding: atac/cell_line_testsets/ (stored 0%)\n",
       "  adding: atac/cell_line_testsets/cell_line_8.h5.lock (stored 0%)\n",
       "  adding: atac/cell_line_testsets/cell_line_8.h5 (deflated 93%)\n",
       "  adding: atac/cell_line_testsets/cell_line_13.h5 (deflated 94%)\n",
       "  adding: atac/cell_line_testsets/cell_line_13.h5.lock (stored 0%)\n",
       "  adding: atac/cell_line_testsets/cell_line_9.h5 (deflated 94%)\n",
       "  adding: atac/cell_line_testsets/cell_line_2.h5 (deflated 93%)\n",
       "  adding: atac/cell_line_testsets/cell_line_7.h5.lock (stored 0%)\n",
       "  adding: atac/cell_line_testsets/cell_line_5.h5 (deflated 93%)\n",
       "  adding: atac/cell_line_testsets/cell_line_7.h5 (deflated 93%)"
      ]
     },
     "execution_count": 4,
     "metadata": {},
     "output_type": "execute_result"
    }
   ],
   "source": [
    "sh.zip(\"datasets.zip\", \".\", \"-r\")"
   ]
  },
  {
   "cell_type": "code",
   "execution_count": 6,
   "id": "7a4e77c2",
   "metadata": {},
   "outputs": [
    {
     "data": {
      "text/plain": [
       "4.5G\tdatasets.zip"
      ]
     },
     "execution_count": 6,
     "metadata": {},
     "output_type": "execute_result"
    }
   ],
   "source": [
    "# Check size of datasets\n",
    "sh.du(\"datasets.zip\", \"-sh\")"
   ]
  },
  {
   "cell_type": "code",
   "execution_count": null,
   "id": "6fc123f7",
   "metadata": {},
   "outputs": [],
   "source": []
  }
 ],
 "metadata": {
  "kernelspec": {
   "display_name": "Python 3 (ipykernel)",
   "language": "python",
   "name": "python3"
  },
  "language_info": {
   "codemirror_mode": {
    "name": "ipython",
    "version": 3
   },
   "file_extension": ".py",
   "mimetype": "text/x-python",
   "name": "python",
   "nbconvert_exporter": "python",
   "pygments_lexer": "ipython3",
   "version": "3.7.13"
  }
 },
 "nbformat": 4,
 "nbformat_minor": 5
}
